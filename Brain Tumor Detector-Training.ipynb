{
 "cells": [
  {
   "cell_type": "code",
   "execution_count": 1,
   "id": "c697013a",
   "metadata": {},
   "outputs": [],
   "source": [
    "from tensorflow.keras.models import Sequential\n",
    "from tensorflow.keras.layers import Conv2D, MaxPooling2D, Flatten, Dense,Dropout\n",
    "from tensorflow.keras.activations import relu,softmax,tanh\n",
    "from tensorflow.keras.optimizers import Adam\n",
    "from tensorflow.keras.optimizers.schedules import ExponentialDecay\n",
    "from tensorflow.keras.losses import categorical_crossentropy\n",
    "from tensorflow.keras.preprocessing import image_dataset_from_directory\n",
    "import numpy as np"
   ]
  },
  {
   "cell_type": "code",
   "execution_count": 2,
   "id": "00faf18f",
   "metadata": {},
   "outputs": [
    {
     "name": "stdout",
     "output_type": "stream",
     "text": [
      "Found 2870 files belonging to 4 classes.\n",
      "Found 394 files belonging to 4 classes.\n"
     ]
    }
   ],
   "source": [
    "train=image_dataset_from_directory(\"Data/Training\",label_mode=\"categorical\",image_size=(300,300),batch_size=30)\n",
    "test=image_dataset_from_directory(\"Data/Testing\",label_mode=\"categorical\",image_size=(300,300),batch_size=30)"
   ]
  },
  {
   "cell_type": "code",
   "execution_count": 3,
   "id": "62b1a783",
   "metadata": {
    "scrolled": false
   },
   "outputs": [
    {
     "name": "stdout",
     "output_type": "stream",
     "text": [
      "Model: \"BrainTumorDetector\"\n",
      "_________________________________________________________________\n",
      "Layer (type)                 Output Shape              Param #   \n",
      "=================================================================\n",
      "conv2d (Conv2D)              (None, 49, 49, 36)        15588     \n",
      "_________________________________________________________________\n",
      "conv2d_1 (Conv2D)            (None, 15, 15, 64)        83008     \n",
      "_________________________________________________________________\n",
      "conv2d_2 (Conv2D)            (None, 7, 7, 128)         73856     \n",
      "_________________________________________________________________\n",
      "flatten (Flatten)            (None, 6272)              0         \n",
      "_________________________________________________________________\n",
      "dense (Dense)                (None, 100)               627300    \n",
      "_________________________________________________________________\n",
      "dropout (Dropout)            (None, 100)               0         \n",
      "_________________________________________________________________\n",
      "dense_1 (Dense)              (None, 40)                4040      \n",
      "_________________________________________________________________\n",
      "dense_2 (Dense)              (None, 4)                 164       \n",
      "=================================================================\n",
      "Total params: 803,956\n",
      "Trainable params: 803,956\n",
      "Non-trainable params: 0\n",
      "_________________________________________________________________\n"
     ]
    }
   ],
   "source": [
    "model=Sequential(name=\"BrainTumorDetector\")\n",
    "model.add(Conv2D(36,(12,12),strides=(6,6),activation=relu,padding=\"VALID\",input_shape=(300,300,3)))\n",
    "model.add(Conv2D(64,(6,6),strides=(3,3),activation=relu,padding=\"VALID\"))\n",
    "model.add(Conv2D(128,(3,3),strides=(2,2),activation=relu,padding=\"VALID\"))\n",
    "model.add(Flatten())\n",
    "model.add(Dense(100,activation=relu))\n",
    "model.add(Dropout(.1))\n",
    "model.add(Dense(40,activation=relu))\n",
    "model.add(Dense(4,activation=softmax))\n",
    "\n",
    "model.summary()"
   ]
  },
  {
   "cell_type": "code",
   "execution_count": 4,
   "id": "8e114ee9",
   "metadata": {},
   "outputs": [],
   "source": [
    "model.compile(loss=categorical_crossentropy,optimizer=Adam(ExponentialDecay(1e-3,50000,.9)),metrics=(\"accuracy\"))"
   ]
  },
  {
   "cell_type": "code",
   "execution_count": 5,
   "id": "80161d1d",
   "metadata": {
    "scrolled": false
   },
   "outputs": [
    {
     "name": "stdout",
     "output_type": "stream",
     "text": [
      "Epoch 1/15\n",
      "96/96 [==============================] - 29s 280ms/step - loss: 2.2021 - accuracy: 0.5153 - val_loss: 1.6176 - val_accuracy: 0.3756\n",
      "Epoch 2/15\n",
      "96/96 [==============================] - 13s 131ms/step - loss: 0.7354 - accuracy: 0.6784 - val_loss: 1.5008 - val_accuracy: 0.4772\n",
      "Epoch 3/15\n",
      "96/96 [==============================] - 14s 143ms/step - loss: 0.5148 - accuracy: 0.7909 - val_loss: 1.8310 - val_accuracy: 0.5990\n",
      "Epoch 4/15\n",
      "96/96 [==============================] - 13s 134ms/step - loss: 0.3772 - accuracy: 0.8446 - val_loss: 2.0550 - val_accuracy: 0.6650\n",
      "Epoch 5/15\n",
      "96/96 [==============================] - 14s 142ms/step - loss: 0.2832 - accuracy: 0.8944 - val_loss: 2.5278 - val_accuracy: 0.6497\n",
      "Epoch 6/15\n",
      "96/96 [==============================] - 14s 144ms/step - loss: 0.2107 - accuracy: 0.9240 - val_loss: 2.6825 - val_accuracy: 0.6726\n",
      "Epoch 7/15\n",
      "96/96 [==============================] - 14s 142ms/step - loss: 0.2048 - accuracy: 0.9265 - val_loss: 2.8244 - val_accuracy: 0.6980\n",
      "Epoch 8/15\n",
      "96/96 [==============================] - 13s 135ms/step - loss: 0.1701 - accuracy: 0.9397 - val_loss: 2.4400 - val_accuracy: 0.6980\n",
      "Epoch 9/15\n",
      "96/96 [==============================] - 13s 139ms/step - loss: 0.1460 - accuracy: 0.9526 - val_loss: 2.9470 - val_accuracy: 0.7132\n",
      "Epoch 10/15\n",
      "96/96 [==============================] - 13s 133ms/step - loss: 0.0991 - accuracy: 0.9683 - val_loss: 3.3163 - val_accuracy: 0.6954\n",
      "Epoch 11/15\n",
      "96/96 [==============================] - 13s 134ms/step - loss: 0.1330 - accuracy: 0.9477 - val_loss: 2.9728 - val_accuracy: 0.7056\n",
      "Epoch 12/15\n",
      "96/96 [==============================] - 13s 133ms/step - loss: 0.0784 - accuracy: 0.9763 - val_loss: 2.9101 - val_accuracy: 0.7259\n",
      "Epoch 13/15\n",
      "96/96 [==============================] - 13s 133ms/step - loss: 0.0855 - accuracy: 0.9711 - val_loss: 3.6003 - val_accuracy: 0.7183\n",
      "Epoch 14/15\n",
      "96/96 [==============================] - 13s 136ms/step - loss: 0.0915 - accuracy: 0.9683 - val_loss: 3.5287 - val_accuracy: 0.7335\n",
      "Epoch 15/15\n",
      "96/96 [==============================] - 13s 137ms/step - loss: 0.0603 - accuracy: 0.9812 - val_loss: 3.9169 - val_accuracy: 0.7259\n"
     ]
    }
   ],
   "source": [
    "hist=model.fit(train,epochs=15,validation_data=test)"
   ]
  },
  {
   "cell_type": "code",
   "execution_count": 6,
   "id": "6a1c8b7e",
   "metadata": {},
   "outputs": [],
   "source": [
    "model.compile(loss=categorical_crossentropy,optimizer=Adam(ExponentialDecay(1e-3,50000,.9)),metrics=(\"accuracy\"))\n",
    "model.save(\"brain tumor.h5\")"
   ]
  },
  {
   "cell_type": "code",
   "execution_count": 7,
   "id": "c0317c5f",
   "metadata": {},
   "outputs": [
    {
     "name": "stdout",
     "output_type": "stream",
     "text": [
      "Epoch 1/15\n",
      "96/96 [==============================] - 13s 128ms/step - loss: 0.1176 - accuracy: 0.9645 - val_loss: 5.0601 - val_accuracy: 0.7462\n",
      "Epoch 2/15\n",
      "96/96 [==============================] - 13s 134ms/step - loss: 0.0880 - accuracy: 0.9746 - val_loss: 4.7079 - val_accuracy: 0.7614\n",
      "Epoch 3/15\n",
      "96/96 [==============================] - 14s 143ms/step - loss: 0.0812 - accuracy: 0.9753 - val_loss: 4.2403 - val_accuracy: 0.7259\n",
      "Epoch 4/15\n",
      "96/96 [==============================] - 13s 132ms/step - loss: 0.0644 - accuracy: 0.9798 - val_loss: 3.9748 - val_accuracy: 0.7411\n",
      "Epoch 5/15\n",
      "96/96 [==============================] - 13s 130ms/step - loss: 0.0672 - accuracy: 0.9794 - val_loss: 5.1805 - val_accuracy: 0.7234\n",
      "Epoch 6/15\n",
      "96/96 [==============================] - 13s 138ms/step - loss: 0.0642 - accuracy: 0.9850 - val_loss: 4.1236 - val_accuracy: 0.7538\n",
      "Epoch 7/15\n",
      "96/96 [==============================] - 14s 140ms/step - loss: 0.0721 - accuracy: 0.9829 - val_loss: 3.6558 - val_accuracy: 0.7360\n",
      "Epoch 8/15\n",
      "96/96 [==============================] - 14s 146ms/step - loss: 0.0532 - accuracy: 0.9808 - val_loss: 5.0618 - val_accuracy: 0.7437\n",
      "Epoch 9/15\n",
      "96/96 [==============================] - 13s 134ms/step - loss: 0.0857 - accuracy: 0.9760 - val_loss: 4.4388 - val_accuracy: 0.7386\n",
      "Epoch 10/15\n",
      "96/96 [==============================] - 13s 136ms/step - loss: 0.1148 - accuracy: 0.9721 - val_loss: 3.8320 - val_accuracy: 0.6980\n",
      "Epoch 11/15\n",
      "96/96 [==============================] - 13s 136ms/step - loss: 0.1178 - accuracy: 0.9679 - val_loss: 4.2858 - val_accuracy: 0.6929\n",
      "Epoch 12/15\n",
      "96/96 [==============================] - 13s 136ms/step - loss: 0.1027 - accuracy: 0.9686 - val_loss: 4.0671 - val_accuracy: 0.7437\n",
      "Epoch 13/15\n",
      "96/96 [==============================] - 14s 149ms/step - loss: 0.0732 - accuracy: 0.9767 - val_loss: 4.0469 - val_accuracy: 0.7487\n",
      "Epoch 14/15\n",
      "96/96 [==============================] - 13s 135ms/step - loss: 0.0298 - accuracy: 0.9920 - val_loss: 3.8940 - val_accuracy: 0.7411\n",
      "Epoch 15/15\n",
      "96/96 [==============================] - 13s 133ms/step - loss: 0.0137 - accuracy: 0.9948 - val_loss: 4.2784 - val_accuracy: 0.7563\n"
     ]
    }
   ],
   "source": [
    "hist=model.fit(train,epochs=15,validation_data=test)"
   ]
  },
  {
   "cell_type": "code",
   "execution_count": 8,
   "id": "3542a0e4",
   "metadata": {},
   "outputs": [],
   "source": [
    "model.compile(loss=categorical_crossentropy,optimizer=Adam(ExponentialDecay(1e-3,50000,.9)),metrics=(\"accuracy\"))\n",
    "model.save(\"brain tumor.h5\")"
   ]
  }
 ],
 "metadata": {
  "kernelspec": {
   "display_name": "Python 3",
   "language": "python",
   "name": "python3"
  },
  "language_info": {
   "codemirror_mode": {
    "name": "ipython",
    "version": 3
   },
   "file_extension": ".py",
   "mimetype": "text/x-python",
   "name": "python",
   "nbconvert_exporter": "python",
   "pygments_lexer": "ipython3",
   "version": "3.8.8"
  }
 },
 "nbformat": 4,
 "nbformat_minor": 5
}
