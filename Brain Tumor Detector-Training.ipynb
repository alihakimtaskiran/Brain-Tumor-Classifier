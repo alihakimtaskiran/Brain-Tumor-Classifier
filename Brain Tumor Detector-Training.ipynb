{
 "cells": [
  {
   "cell_type": "code",
   "execution_count": 46,
   "id": "c697013a",
   "metadata": {},
   "outputs": [],
   "source": [
    "from tensorflow.keras.models import Sequential\n",
    "from tensorflow.keras.layers import Conv2D, MaxPooling2D, Flatten, Dense,Dropout\n",
    "from tensorflow.keras.activations import relu,softmax,tanh\n",
    "from tensorflow.keras.optimizers import Adam\n",
    "from tensorflow.keras.optimizers.schedules import ExponentialDecay\n",
    "from tensorflow.keras.losses import categorical_crossentropy\n",
    "from tensorflow.keras.preprocessing import image_dataset_from_directory\n",
    "import numpy as np"
   ]
  },
  {
   "cell_type": "code",
   "execution_count": 26,
   "id": "00faf18f",
   "metadata": {},
   "outputs": [
    {
     "name": "stdout",
     "output_type": "stream",
     "text": [
      "Found 2870 files belonging to 4 classes.\n",
      "Found 394 files belonging to 4 classes.\n"
     ]
    }
   ],
   "source": [
    "train=image_dataset_from_directory(\"Data/Training\",label_mode=\"categorical\",image_size=(300,300),batch_size=30)\n",
    "test=image_dataset_from_directory(\"Data/Testing\",label_mode=\"categorical\",image_size=(300,300),batch_size=30)"
   ]
  },
  {
   "cell_type": "code",
   "execution_count": 47,
   "id": "62b1a783",
   "metadata": {
    "scrolled": false
   },
   "outputs": [
    {
     "name": "stdout",
     "output_type": "stream",
     "text": [
      "Model: \"BrainTumorDetector\"\n",
      "_________________________________________________________________\n",
      "Layer (type)                 Output Shape              Param #   \n",
      "=================================================================\n",
      "conv2d_52 (Conv2D)           (None, 291, 291, 24)      7224      \n",
      "_________________________________________________________________\n",
      "max_pooling2d_47 (MaxPooling (None, 145, 145, 24)      0         \n",
      "_________________________________________________________________\n",
      "conv2d_53 (Conv2D)           (None, 142, 142, 48)      18480     \n",
      "_________________________________________________________________\n",
      "max_pooling2d_48 (MaxPooling (None, 71, 71, 48)        0         \n",
      "_________________________________________________________________\n",
      "conv2d_54 (Conv2D)           (None, 69, 69, 64)        27712     \n",
      "_________________________________________________________________\n",
      "max_pooling2d_49 (MaxPooling (None, 34, 34, 64)        0         \n",
      "_________________________________________________________________\n",
      "conv2d_55 (Conv2D)           (None, 32, 32, 96)        55392     \n",
      "_________________________________________________________________\n",
      "max_pooling2d_50 (MaxPooling (None, 16, 16, 96)        0         \n",
      "_________________________________________________________________\n",
      "flatten_13 (Flatten)         (None, 24576)             0         \n",
      "_________________________________________________________________\n",
      "dense_40 (Dense)             (None, 100)               2457700   \n",
      "_________________________________________________________________\n",
      "dropout (Dropout)            (None, 100)               0         \n",
      "_________________________________________________________________\n",
      "dense_41 (Dense)             (None, 26)                2626      \n",
      "_________________________________________________________________\n",
      "dense_42 (Dense)             (None, 4)                 108       \n",
      "=================================================================\n",
      "Total params: 2,569,242\n",
      "Trainable params: 2,569,242\n",
      "Non-trainable params: 0\n",
      "_________________________________________________________________\n"
     ]
    }
   ],
   "source": [
    "model=Sequential(name=\"BrainTumorDetector\")\n",
    "model.add(Conv2D(24,(10,10),activation=relu,padding=\"VALID\",input_shape=(300,300,3)))\n",
    "model.add(MaxPooling2D((2,2),strides=(2,2)))\n",
    "model.add(Conv2D(48,(4,4),activation=relu,padding=\"VALID\"))\n",
    "model.add(MaxPooling2D((2,2),strides=(2,2)))\n",
    "model.add(Conv2D(64,(3,3),activation=relu,padding=\"VALID\"))\n",
    "model.add(MaxPooling2D((2,2),strides=(2,2)))\n",
    "model.add(Conv2D(96,(3,3),activation=relu,padding=\"VALID\"))\n",
    "model.add(MaxPooling2D((2,2),strides=(2,2)))\n",
    "model.add(Flatten())\n",
    "model.add(Dense(100,activation=relu))\n",
    "model.add(Dropout(.1))\n",
    "model.add(Dense(26,activation=relu))\n",
    "model.add(Dense(4,activation=softmax))\n",
    "\n",
    "model.summary()"
   ]
  },
  {
   "cell_type": "code",
   "execution_count": 48,
   "id": "8e114ee9",
   "metadata": {},
   "outputs": [],
   "source": [
    "model.compile(loss=categorical_crossentropy,optimizer=Adam(ExponentialDecay(1e-3,50000,.9)),metrics=(\"accuracy\"))"
   ]
  },
  {
   "cell_type": "code",
   "execution_count": 49,
   "id": "80161d1d",
   "metadata": {
    "scrolled": false
   },
   "outputs": [
    {
     "name": "stdout",
     "output_type": "stream",
     "text": [
      "Epoch 1/12\n",
      "96/96 [==============================] - 336s 3s/step - loss: 2.8615 - accuracy: 0.5429 - val_loss: 1.7609 - val_accuracy: 0.3477\n",
      "Epoch 2/12\n",
      "96/96 [==============================] - 334s 3s/step - loss: 0.7074 - accuracy: 0.7063 - val_loss: 1.8285 - val_accuracy: 0.4873\n",
      "Epoch 3/12\n",
      "96/96 [==============================] - 330s 3s/step - loss: 0.5335 - accuracy: 0.7864 - val_loss: 1.5015 - val_accuracy: 0.5482\n",
      "Epoch 4/12\n",
      "96/96 [==============================] - 364s 4s/step - loss: 0.3705 - accuracy: 0.8533 - val_loss: 1.9384 - val_accuracy: 0.6269\n",
      "Epoch 5/12\n",
      "96/96 [==============================] - 360s 4s/step - loss: 0.2632 - accuracy: 0.8976 - val_loss: 2.4049 - val_accuracy: 0.6497\n",
      "Epoch 6/12\n",
      "96/96 [==============================] - 360s 4s/step - loss: 0.1800 - accuracy: 0.9303 - val_loss: 2.5054 - val_accuracy: 0.6624\n",
      "Epoch 7/12\n",
      "96/96 [==============================] - 359s 4s/step - loss: 0.1571 - accuracy: 0.9491 - val_loss: 4.2715 - val_accuracy: 0.6117\n",
      "Epoch 8/12\n",
      "96/96 [==============================] - 361s 4s/step - loss: 0.1123 - accuracy: 0.9606 - val_loss: 3.2404 - val_accuracy: 0.7056\n",
      "Epoch 9/12\n",
      "96/96 [==============================] - 363s 4s/step - loss: 0.1165 - accuracy: 0.9603 - val_loss: 3.5210 - val_accuracy: 0.7208\n",
      "Epoch 10/12\n",
      "96/96 [==============================] - 355s 4s/step - loss: 0.1217 - accuracy: 0.9571 - val_loss: 3.5525 - val_accuracy: 0.6853\n",
      "Epoch 11/12\n",
      "96/96 [==============================] - 367s 4s/step - loss: 0.0823 - accuracy: 0.9700 - val_loss: 4.2850 - val_accuracy: 0.7563\n",
      "Epoch 12/12\n",
      "96/96 [==============================] - 355s 4s/step - loss: 0.1032 - accuracy: 0.9641 - val_loss: 3.2585 - val_accuracy: 0.7259\n"
     ]
    }
   ],
   "source": [
    "hist=model.fit(train,epochs=12,validation_data=test)"
   ]
  },
  {
   "cell_type": "code",
   "execution_count": 50,
   "id": "6a1c8b7e",
   "metadata": {},
   "outputs": [],
   "source": [
    "model.compile(loss=categorical_crossentropy,optimizer=Adam(ExponentialDecay(1e-3,50000,.9)),metrics=(\"accuracy\"))\n",
    "model.save(\"brain tumor.h5\")"
   ]
  }
 ],
 "metadata": {
  "kernelspec": {
   "display_name": "Python 3",
   "language": "python",
   "name": "python3"
  },
  "language_info": {
   "codemirror_mode": {
    "name": "ipython",
    "version": 3
   },
   "file_extension": ".py",
   "mimetype": "text/x-python",
   "name": "python",
   "nbconvert_exporter": "python",
   "pygments_lexer": "ipython3",
   "version": "3.8.8"
  }
 },
 "nbformat": 4,
 "nbformat_minor": 5
}
